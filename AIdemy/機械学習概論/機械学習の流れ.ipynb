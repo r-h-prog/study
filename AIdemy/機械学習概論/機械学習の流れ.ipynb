{
 "cells": [
  {
   "cell_type": "markdown",
   "metadata": {},
   "source": [
    "# 機械学習の流れ"
   ]
  },
  {
   "cell_type": "markdown",
   "metadata": {},
   "source": [
    "## 教師あり学習の流れ\n",
    "- データ収集\n",
    "- データクレンジング(データの欠損値などを取り除いてデータを精製する。いわゆる前処理)\n",
    "- 学習アルゴリズムでデータを学習\n",
    "- テストデータで性能をテスト\n",
    "- 機械学習モデルをWebなどに実装"
   ]
  },
  {
   "cell_type": "markdown",
   "metadata": {},
   "source": [
    "## ホールドアウト法\n",
    "- データをトレーニングデータとテストデータの二つに分割する手法\n",
    "- train_test_split関数を使用する"
   ]
  },
  {
   "cell_type": "markdown",
   "metadata": {},
   "source": [
    "## k-分割交差検証(クロスバリデーション)\n",
    "- 用意したデータをk分割し、そのうちの一つをテストデータ、残りのk-1個をトレーニングデータにする方法\n",
    "\n",
    "### 1個抜き交差検証（Leave-One-Out：LOOクロスバリデーション) \n",
    "- データセットの数と同じだけ分割し、そのうちの一つをテストデータとする手法\n",
    "- 50~100程度のデータセットを扱う場合には、この手法が適する"
   ]
  },
  {
   "cell_type": "code",
   "execution_count": 5,
   "metadata": {},
   "outputs": [
    {
     "name": "stdout",
     "output_type": "stream",
     "text": [
      "[0.86666667 0.96666667 0.83333333 0.96666667 0.93333333]\n",
      "平均スコア : 0.9133333333333334\n"
     ]
    }
   ],
   "source": [
    "# k-分割交差検証(クロスバリデーション)の例\n",
    "\n",
    "from sklearn.svm import SVC\n",
    "from sklearn.datasets import load_iris\n",
    "from sklearn.model_selection import cross_val_score\n",
    "\n",
    "iris = load_iris()\n",
    "X = iris.data\n",
    "y = iris.target\n",
    "\n",
    "svc = SVC(C=1, kernel='rbf', gamma=0.001)\n",
    "scores = cross_val_score(svc, X, y, cv=5)\n",
    "\n",
    "print (scores)\n",
    "print (\"平均スコア :\", scores.mean())"
   ]
  },
  {
   "cell_type": "markdown",
   "metadata": {},
   "source": [
    "## アンサンブル学習\n",
    "- 複数のモデルに学習させて、予測結果を統合することで、汎化性能を高める手法\n",
    "- 代表的な手法にはバギングとブースティングの2つ\n",
    "    - **バギング** : 同時に復習のモデルに学習させて、予測結果の平均をとることで汎化能力を向上させる\n",
    "    - **ブースティング** : 複数のモデルの異なる予測結果を統合することで、汎化性能を高める\n",
    "      "
   ]
  },
  {
   "cell_type": "markdown",
   "metadata": {},
   "source": [
    "## Precision\n",
    "TP / FP + TP\n",
    "\n",
    "## Recall\n",
    "TP / FN + TP\n",
    "\n",
    "## F値\n",
    "2 x (Precision x Recall) / (Precision + Recall)\n",
    "\n",
    "\n",
    "#### TP : 陽性クラスと予測され結果も陽性クラスであった個数\n",
    "#### TN : 陰性クラスと予測され結果も陰性クラスであった個数\n",
    "#### FP : 陽性クラスと予測されたが結果は陰性クラスであった個数\n",
    "#### FN : 陰性クラスと予測されたが結果は陽性クラスであった個数"
   ]
  },
  {
   "cell_type": "code",
   "execution_count": null,
   "metadata": {},
   "outputs": [],
   "source": []
  }
 ],
 "metadata": {
  "kernelspec": {
   "display_name": "Python 3",
   "language": "python",
   "name": "python3"
  },
  "language_info": {
   "codemirror_mode": {
    "name": "ipython",
    "version": 3
   },
   "file_extension": ".py",
   "mimetype": "text/x-python",
   "name": "python",
   "nbconvert_exporter": "python",
   "pygments_lexer": "ipython3",
   "version": "3.6.5"
  }
 },
 "nbformat": 4,
 "nbformat_minor": 2
}
