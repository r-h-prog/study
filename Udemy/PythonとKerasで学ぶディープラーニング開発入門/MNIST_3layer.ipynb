{
 "cells": [
  {
   "cell_type": "markdown",
   "metadata": {},
   "source": [
    "- categorical_cross_entropyターゲットをOne-hot変換（配列の一つの要素だけが値を持つ）した場合のみ用いる\n",
    "- sparse_categorical_entropyはターゲットが整数のラベル（0~9など）の場合に用いる"
   ]
  },
  {
   "cell_type": "code",
   "execution_count": null,
   "metadata": {},
   "outputs": [],
   "source": []
  }
 ],
 "metadata": {
  "kernelspec": {
   "display_name": "Python 3",
   "language": "python",
   "name": "python3"
  },
  "language_info": {
   "codemirror_mode": {
    "name": "ipython",
    "version": 3
   },
   "file_extension": ".py",
   "mimetype": "text/x-python",
   "name": "python",
   "nbconvert_exporter": "python",
   "pygments_lexer": "ipython3",
   "version": "3.7.4"
  }
 },
 "nbformat": 4,
 "nbformat_minor": 2
}
