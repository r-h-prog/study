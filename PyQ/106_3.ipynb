{
 "cells": [
  {
   "cell_type": "markdown",
   "metadata": {},
   "source": [
    "## 多重共線性\n",
    "ある説明変数Aと別の説明変数Bの相関が高いとき、多重共線性があるといいます"
   ]
  },
  {
   "cell_type": "markdown",
   "metadata": {},
   "source": [
    "## 次元削減\n",
    "- 次元削減とは、元のデータセット中の特徴をより少なく効果的な特徴に置き換えることです。 \n",
    "- 次元削減をすると、情報量が減るのでトレーニングデータの平均二乗誤差は増えていきます。テストデータの平均二乗誤差も増えていきますが、過学習が抑えられるので、増え方は緩やかになります。"
   ]
  },
  {
   "cell_type": "code",
   "execution_count": 1,
   "metadata": {},
   "outputs": [],
   "source": [
    "%matplotlib inline\n",
    "import matplotlib.pyplot as plt\n",
    "from sklearn.datasets import load_boston\n",
    "from sklearn.model_selection import train_test_split\n",
    "from sklearn.linear_model import LinearRegression\n",
    "from sklearn.metrics import mean_squared_error\n",
    "from sklearn.decomposition import PCA\n",
    "X, y = load_boston(True)  # ボストン市の住宅価格データ一式"
   ]
  },
  {
   "cell_type": "code",
   "execution_count": 2,
   "metadata": {},
   "outputs": [
    {
     "data": {
      "text/plain": [
       "(19.628348663079148, 25.309383412712048)"
      ]
     },
     "execution_count": 2,
     "metadata": {},
     "output_type": "execute_result"
    }
   ],
   "source": [
    "# 全説明変数の時の結果\n",
    "X_train, X_test, y_train, y_test = train_test_split(X, y, test_size=len(y)//2, random_state=0)\n",
    "lr = LinearRegression().fit(X_train, y_train)\n",
    "score1 = mean_squared_error(y_train, lr.predict(X_train))\n",
    "score2 = mean_squared_error(y_test, lr.predict(X_test))\n",
    "score1, score2"
   ]
  },
  {
   "cell_type": "code",
   "execution_count": 3,
   "metadata": {},
   "outputs": [],
   "source": [
    "# 次元削減の効果\n",
    "res1, res2 = [], []\n",
    "nums = [13, 11, 9, 7, 5, 3]\n",
    "for num in nums:\n",
    "    # 次元削減\n",
    "    # PCA(新しい次元数).fit_transform(元のデータ)\n",
    "    X_pca = PCA(num).fit_transform(X)\n",
    "    X_train, X_test, y_train, y_test = train_test_split(X_pca, y, test_size=len(y)//2, random_state=0)\n",
    "    lr = LinearRegression().fit(X_train, y_train)\n",
    "    res1.append(mean_squared_error(y_train, lr.predict(X_train)))\n",
    "    res2.append(mean_squared_error(y_test, lr.predict(X_test)))"
   ]
  },
  {
   "cell_type": "code",
   "execution_count": 4,
   "metadata": {},
   "outputs": [
    {
     "data": {
      "image/png": "[encoded data removed]",
      "text/plain": [
       "<Figure size 432x288 with 1 Axes>"
      ]
     },
     "metadata": {},
     "output_type": "display_data"
    }
   ],
   "source": [
    "# グラフで比較\n",
    "plt.xlabel('Number of explanatory variable')\n",
    "plt.ylabel('Mean Squared Error')\n",
    "plt.ylim((0, 70))\n",
    "plt.xticks(range(len(nums)), nums)\n",
    "plt.plot(res1, label='Training')\n",
    "plt.plot(res2, label='Test')\n",
    "plt.legend();"
   ]
  },
  {
   "cell_type": "markdown",
   "metadata": {},
   "source": [
    "## 正則化\n",
    "- 正則化とは、過学習などを防ぐために学習モデルにペナルティになる計算を入れることです。\n",
    "- パラメーターを推定するときに、誤差だけではなくパラメーター自体の大きさも小さくしようとします。この追加する項を正則化項（ペナルティー）といい、正則化項にかかる係数を正則化パラメーター（α）といいます。αが0だと正則化の効果はありません。なお、Ridgeなどのモデルでは、αはalphaオプションに対応します。\n",
    "- L2ペナルティー：パラメーターの二乗の和。Ridge（リッジ）回帰で使われます。\n",
    "- L1ペナルティー：パラメーターの絶対値の和。Lasso（ラッソ）で使われます。\n",
    "- L1とL2ペナルティー：L1ペナルティーとL2ペナルティーの重み和。Elastic Net（エラスティックネット）で使われます。"
   ]
  },
  {
   "cell_type": "code",
   "execution_count": 1,
   "metadata": {},
   "outputs": [],
   "source": [
    "%matplotlib inline\n",
    "import pandas as pd, matplotlib.pyplot as plt\n",
    "from sklearn.datasets import load_boston\n",
    "from sklearn.model_selection import train_test_split\n",
    "from sklearn.linear_model import LinearRegression, Ridge\n",
    "from sklearn.metrics import r2_score\n",
    "X, y = load_boston(True)  # ボストン市の住宅価格データ"
   ]
  },
  {
   "cell_type": "code",
   "execution_count": 2,
   "metadata": {},
   "outputs": [],
   "source": [
    "X_train, X_test, y_train, y_test = train_test_split(X, y, random_state=0)"
   ]
  },
  {
   "cell_type": "code",
   "execution_count": 3,
   "metadata": {},
   "outputs": [
    {
     "data": {
      "text/plain": [
       "Ridge(alpha=1, copy_X=True, fit_intercept=True, max_iter=None,\n",
       "   normalize=False, random_state=None, solver='auto', tol=0.001)"
      ]
     },
     "execution_count": 3,
     "metadata": {},
     "output_type": "execute_result"
    }
   ],
   "source": [
    "# 線形回帰\n",
    "lr = LinearRegression()\n",
    "lr.fit(X_train, y_train)\n",
    "# Ridge回帰\n",
    "ridge = Ridge(alpha=1)\n",
    "ridge.fit(X_train, y_train)"
   ]
  },
  {
   "cell_type": "code",
   "execution_count": 4,
   "metadata": {},
   "outputs": [
    {
     "data": {
      "text/plain": [
       "(0.6353620786674621, 0.6265116223767431)"
      ]
     },
     "execution_count": 4,
     "metadata": {},
     "output_type": "execute_result"
    }
   ],
   "source": [
    "# 線形回帰の予測\n",
    "y_pred1 = lr.predict(X_test)\n",
    "# 線形回帰の評価\n",
    "score1 = r2_score(y_test, y_pred1)\n",
    "# Ridge回帰の予測\n",
    "y_pred2 = ridge.predict(X_test)\n",
    "# Ridge回帰の評価\n",
    "score2 = r2_score(y_test, y_pred2)\n",
    "score1, score2"
   ]
  },
  {
   "cell_type": "code",
   "execution_count": 5,
   "metadata": {},
   "outputs": [
    {
     "data": {
      "text/plain": [
       "<matplotlib.axes._subplots.AxesSubplot at 0x1c22a82438>"
      ]
     },
     "execution_count": 5,
     "metadata": {},
     "output_type": "execute_result"
    },
    {
     "data": {
      "image/png": "[encoded data removed]",
      "text/plain": [
       "<Figure size 432x288 with 1 Axes>"
      ]
     },
     "metadata": {},
     "output_type": "display_data"
    }
   ],
   "source": [
    "df = pd.DataFrame({'LR': lr.coef_, 'Ridge': ridge.coef_})\n",
    "df.plot.bar()"
   ]
  },
  {
   "cell_type": "code",
   "execution_count": null,
   "metadata": {},
   "outputs": [],
   "source": []
  }
 ],
 "metadata": {
  "kernelspec": {
   "display_name": "Python 3",
   "language": "python",
   "name": "python3"
  },
  "language_info": {
   "codemirror_mode": {
    "name": "ipython",
    "version": 3
   },
   "file_extension": ".py",
   "mimetype": "text/x-python",
   "name": "python",
   "nbconvert_exporter": "python",
   "pygments_lexer": "ipython3",
   "version": "3.6.5"
  }
 },
 "nbformat": 4,
 "nbformat_minor": 2
}
