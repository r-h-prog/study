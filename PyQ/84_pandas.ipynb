{
 "cells": [
  {
   "cell_type": "code",
   "execution_count": 1,
   "metadata": {},
   "outputs": [],
   "source": [
    "import pandas as pd"
   ]
  },
  {
   "cell_type": "code",
   "execution_count": 5,
   "metadata": {},
   "outputs": [],
   "source": [
    "# 大きなサイズのcsvファイルの読み込み\n",
    "# df_log_big = pd.read_csv(\"dataset/product_log.csv\", low_memory=False)\n",
    "# df_log_big.head()\n",
    "\n",
    "# 日本語などでUTF-8を使用している時\n",
    "# df_log1_utf8 = pd.read_csv(\"dataset/product_log.csv\",encoding='utf-8')\n",
    "# df_log1_utf8.head()\n",
    "\n",
    "# 日本語などでWindowsのShift JISを使用している時\n",
    "# df_log_cp932 = pd.read_csv('dataset/product_log.csv', encoding='cp932')\n",
    "# df_log_cp932.head()"
   ]
  },
  {
   "cell_type": "code",
   "execution_count": null,
   "metadata": {},
   "outputs": [],
   "source": [
    "# 四分位数の代わりに30%点と60%点を表示する\n",
    "# df_log.describe([0.3,0.6])"
   ]
  }
 ],
 "metadata": {
  "kernelspec": {
   "display_name": "Python 3",
   "language": "python",
   "name": "python3"
  },
  "language_info": {
   "codemirror_mode": {
    "name": "ipython",
    "version": 3
   },
   "file_extension": ".py",
   "mimetype": "text/x-python",
   "name": "python",
   "nbconvert_exporter": "python",
   "pygments_lexer": "ipython3",
   "version": "3.6.5"
  }
 },
 "nbformat": 4,
 "nbformat_minor": 2
}
