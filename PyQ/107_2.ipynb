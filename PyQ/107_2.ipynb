{
 "cells": [
  {
   "cell_type": "markdown",
   "metadata": {},
   "source": [
    "## 線形回帰とRidge回帰の比較"
   ]
  },
  {
   "cell_type": "code",
   "execution_count": 1,
   "metadata": {},
   "outputs": [],
   "source": [
    "%precision 3\n",
    "import numpy as np\n",
    "from sklearn.model_selection import train_test_split\n",
    "from sklearn.linear_model import LinearRegression, Ridge\n",
    "from sklearn.metrics import mean_squared_error\n",
    "np.random.seed(23)\n",
    "M, N = 80, 32\n",
    "# ダミーデータ\n",
    "X = np.random.randn(M, N)\n",
    "y = X.sum(1) * 0.4 + np.random.randn(M)"
   ]
  },
  {
   "cell_type": "code",
   "execution_count": 2,
   "metadata": {},
   "outputs": [],
   "source": [
    "# トレーニングデータとテストデータの平均二乗誤差を計算\n",
    "def calc_score(model):\n",
    "    lst1, lst2 = [], []\n",
    "    for i in range(20): # 20回の平均をとる\n",
    "        X_train, X_test, y_train, y_test = train_test_split(X, y, test_size=M//2, random_state=i)\n",
    "        model.fit(X_train, y_train)\n",
    "        lst1.append(mean_squared_error(y_train, model.predict(X_train)))\n",
    "        lst2.append(mean_squared_error(y_test, model.predict(X_test)))\n",
    "    score1 = np.mean(lst1)\n",
    "    score2 = np.mean(lst2)\n",
    "    return score1, score2"
   ]
  },
  {
   "cell_type": "code",
   "execution_count": 3,
   "metadata": {},
   "outputs": [
    {
     "data": {
      "text/plain": [
       "(0.165, 10.038)"
      ]
     },
     "execution_count": 3,
     "metadata": {},
     "output_type": "execute_result"
    }
   ],
   "source": [
    "# 線形回帰の時\n",
    "model = LinearRegression()\n",
    "score1, score2 = calc_score(model)\n",
    "float(score1), float(score2) # トレーニングデータとテストデータの平均二乗誤差"
   ]
  },
  {
   "cell_type": "code",
   "execution_count": 4,
   "metadata": {},
   "outputs": [
    {
     "data": {
      "text/plain": [
       "(0.195, 3.906)"
      ]
     },
     "execution_count": 4,
     "metadata": {},
     "output_type": "execute_result"
    }
   ],
   "source": [
    "# Ridge回帰の時\n",
    "model = Ridge()\n",
    "score3, score4  = calc_score(model)\n",
    "float(score3), float(score4) #トレーニングデータとテストデータの平均二乗誤差"
   ]
  },
  {
   "cell_type": "markdown",
   "metadata": {},
   "source": [
    "結論：線形回帰と比較してRidge回帰の時の方が、正則化の影響で汎化性能が高くなっている"
   ]
  },
  {
   "cell_type": "markdown",
   "metadata": {},
   "source": [
    "## サポートベクタマシンとの比較"
   ]
  },
  {
   "cell_type": "code",
   "execution_count": 5,
   "metadata": {},
   "outputs": [
    {
     "data": {
      "text/plain": [
       "(3.195, 5.675)"
      ]
     },
     "execution_count": 5,
     "metadata": {},
     "output_type": "execute_result"
    }
   ],
   "source": [
    "from sklearn.svm import SVR\n",
    "model = SVR()\n",
    "score5, score6 = calc_score(model)\n",
    "float(score5), float(score6)"
   ]
  },
  {
   "cell_type": "markdown",
   "metadata": {},
   "source": [
    "## ランダムフォレスト回帰との比較"
   ]
  },
  {
   "cell_type": "code",
   "execution_count": 6,
   "metadata": {},
   "outputs": [
    {
     "data": {
      "text/plain": [
       "(1.030, 5.905)"
      ]
     },
     "execution_count": 6,
     "metadata": {},
     "output_type": "execute_result"
    }
   ],
   "source": [
    "from sklearn.ensemble import RandomForestRegressor\n",
    "model = RandomForestRegressor(n_estimators=20,random_state=0)\n",
    "score7, score8 = calc_score(model)\n",
    "float(score7), float(score8)"
   ]
  },
  {
   "cell_type": "code",
   "execution_count": null,
   "metadata": {},
   "outputs": [],
   "source": []
  }
 ],
 "metadata": {
  "kernelspec": {
   "display_name": "Python 3",
   "language": "python",
   "name": "python3"
  },
  "language_info": {
   "codemirror_mode": {
    "name": "ipython",
    "version": 3
   },
   "file_extension": ".py",
   "mimetype": "text/x-python",
   "name": "python",
   "nbconvert_exporter": "python",
   "pygments_lexer": "ipython3",
   "version": "3.6.5"
  }
 },
 "nbformat": 4,
 "nbformat_minor": 2
}
