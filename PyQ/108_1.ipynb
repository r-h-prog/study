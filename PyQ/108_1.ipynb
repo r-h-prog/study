{
 "cells": [
  {
   "cell_type": "markdown",
   "metadata": {},
   "source": [
    "## クラスタリングで顧客の分類\n",
    "- k-近傍法は教師あり学習\n",
    "- k-平均法は教師なし学習\n",
    "- k_meansの返り値は「centroid: クラスターごとの中心、label: クラスターのラベルの配列、inertia: 中心との距離の二乗和」"
   ]
  },
  {
   "cell_type": "code",
   "execution_count": 2,
   "metadata": {},
   "outputs": [],
   "source": [
    "import pandas as pd\n",
    "\n",
    "# 顧客ごとの販売データの読込\n",
    "df = pd.read_csv('input/log.csv')\n",
    "n_clusters = 2"
   ]
  },
  {
   "cell_type": "code",
   "execution_count": 3,
   "metadata": {
    "scrolled": true
   },
   "outputs": [
    {
     "data": {
      "text/plain": [
       "(array([[ 3878.18181818, 48025.        ,  4523.18181818,   611.47727273],\n",
       "        [39687.14285714, 16130.35714286,  2213.75      ,   247.19642857]]),\n",
       " array([0, 0, 0, 0, 1, 1, 1, 1, 0, 1, 1, 1, 0, 1, 0, 1, 0, 1, 1, 1, 0, 0,\n",
       "        1, 1, 1, 0, 1, 1, 1, 1, 0, 1, 0, 0, 1, 1, 0, 0, 0, 1, 1, 1, 1, 0,\n",
       "        0, 1, 1, 0, 1, 1, 1, 1, 1, 0, 1, 1, 1, 0, 0, 1, 1, 0, 0, 1, 1, 1,\n",
       "        0, 1, 1, 1, 1, 1, 0, 0, 1, 0, 0, 0, 1, 0, 0, 0, 1, 0, 0, 0, 1, 0,\n",
       "        0, 1, 0, 0, 0, 1, 1, 1, 1, 1, 0, 0], dtype=int32),\n",
       " 39727838655.12175)"
      ]
     },
     "execution_count": 3,
     "metadata": {},
     "output_type": "execute_result"
    }
   ],
   "source": [
    "from sklearn.cluster import k_means\n",
    "centroid, label, inertia = k_means(df, n_clusters, random_state=0)\n",
    "centroid, label, inertia"
   ]
  },
  {
   "cell_type": "markdown",
   "metadata": {},
   "source": [
    "#### `df[TrueまたはFalseの配列] `で、Trueの部分だけ取り出せる。"
   ]
  },
  {
   "cell_type": "code",
   "execution_count": 4,
   "metadata": {},
   "outputs": [
    {
     "data": {
      "text/plain": [
       "Recruit       3878.181818\n",
       "Custom       48025.000000\n",
       "Shirt         4523.181818\n",
       "Accessory      611.477273\n",
       "dtype: float64"
      ]
     },
     "execution_count": 4,
     "metadata": {},
     "output_type": "execute_result"
    }
   ],
   "source": [
    "# ラベル0を取り出す\n",
    "df0 = df[label==0]\n",
    "# 列ごとの平均を求める\n",
    "df0_mean = df0.mean()\n",
    "df0_mean"
   ]
  },
  {
   "cell_type": "code",
   "execution_count": 5,
   "metadata": {},
   "outputs": [
    {
     "data": {
      "text/plain": [
       "Recruit      39687.142857\n",
       "Custom       16130.357143\n",
       "Shirt         2213.750000\n",
       "Accessory      247.196429\n",
       "dtype: float64"
      ]
     },
     "execution_count": 5,
     "metadata": {},
     "output_type": "execute_result"
    }
   ],
   "source": [
    "df1 = df[label ==1]\n",
    "df1_mean = df1.mean()\n",
    "df1_mean"
   ]
  },
  {
   "cell_type": "markdown",
   "metadata": {},
   "source": [
    "- DataFrameメソッドはaxisオプションで行方向(=0)と列方向(=1)を指定できる\n",
    "- デフォルトは行方向に計算し、結果は列ラベルごと。"
   ]
  },
  {
   "cell_type": "code",
   "execution_count": null,
   "metadata": {},
   "outputs": [],
   "source": []
  }
 ],
 "metadata": {
  "kernelspec": {
   "display_name": "Python 3",
   "language": "python",
   "name": "python3"
  },
  "language_info": {
   "codemirror_mode": {
    "name": "ipython",
    "version": 3
   },
   "file_extension": ".py",
   "mimetype": "text/x-python",
   "name": "python",
   "nbconvert_exporter": "python",
   "pygments_lexer": "ipython3",
   "version": "3.6.5"
  }
 },
 "nbformat": 4,
 "nbformat_minor": 2
}
