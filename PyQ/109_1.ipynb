{
 "cells": [
  {
   "cell_type": "code",
   "execution_count": 2,
   "metadata": {},
   "outputs": [],
   "source": [
    "%matplotlib inline\n",
    "import pandas as pd"
   ]
  },
  {
   "cell_type": "code",
   "execution_count": 3,
   "metadata": {},
   "outputs": [
    {
     "data": {
      "text/html": [
       "<div>\n",
       "<style scoped>\n",
       "    .dataframe tbody tr th:only-of-type {\n",
       "        vertical-align: middle;\n",
       "    }\n",
       "\n",
       "    .dataframe tbody tr th {\n",
       "        vertical-align: top;\n",
       "    }\n",
       "\n",
       "    .dataframe thead th {\n",
       "        text-align: right;\n",
       "    }\n",
       "</style>\n",
       "<table border=\"1\" class=\"dataframe\">\n",
       "  <thead>\n",
       "    <tr style=\"text-align: right;\">\n",
       "      <th></th>\n",
       "      <th>Price</th>\n",
       "      <th>Location</th>\n",
       "      <th>Type</th>\n",
       "      <th>Area</th>\n",
       "      <th>Building</th>\n",
       "      <th>Walk</th>\n",
       "      <th>Years</th>\n",
       "    </tr>\n",
       "  </thead>\n",
       "  <tbody>\n",
       "    <tr>\n",
       "      <th>0</th>\n",
       "      <td>1620</td>\n",
       "      <td>江戸川区</td>\n",
       "      <td>3DK</td>\n",
       "      <td>50.25</td>\n",
       "      <td>52.31</td>\n",
       "      <td>10.0</td>\n",
       "      <td>39.0</td>\n",
       "    </tr>\n",
       "    <tr>\n",
       "      <th>1</th>\n",
       "      <td>3840</td>\n",
       "      <td>江戸川区</td>\n",
       "      <td>3LDK</td>\n",
       "      <td>82.62</td>\n",
       "      <td>95.60</td>\n",
       "      <td>20.0</td>\n",
       "      <td>28.0</td>\n",
       "    </tr>\n",
       "    <tr>\n",
       "      <th>2</th>\n",
       "      <td>4490</td>\n",
       "      <td>杉並区</td>\n",
       "      <td>3DK</td>\n",
       "      <td>46.81</td>\n",
       "      <td>76.60</td>\n",
       "      <td>13.0</td>\n",
       "      <td>22.0</td>\n",
       "    </tr>\n",
       "  </tbody>\n",
       "</table>\n",
       "</div>"
      ],
      "text/plain": [
       "   Price Location  Type   Area  Building  Walk  Years\n",
       "0   1620     江戸川区   3DK  50.25     52.31  10.0   39.0\n",
       "1   3840     江戸川区  3LDK  82.62     95.60  20.0   28.0\n",
       "2   4490      杉並区   3DK  46.81     76.60  13.0   22.0"
      ]
     },
     "execution_count": 3,
     "metadata": {},
     "output_type": "execute_result"
    }
   ],
   "source": [
    "df1 = pd.read_csv('input/house.csv')\n",
    "df1.head(3)"
   ]
  },
  {
   "cell_type": "code",
   "execution_count": 4,
   "metadata": {},
   "outputs": [
    {
     "data": {
      "text/html": [
       "<div>\n",
       "<style scoped>\n",
       "    .dataframe tbody tr th:only-of-type {\n",
       "        vertical-align: middle;\n",
       "    }\n",
       "\n",
       "    .dataframe tbody tr th {\n",
       "        vertical-align: top;\n",
       "    }\n",
       "\n",
       "    .dataframe thead th {\n",
       "        text-align: right;\n",
       "    }\n",
       "</style>\n",
       "<table border=\"1\" class=\"dataframe\">\n",
       "  <thead>\n",
       "    <tr style=\"text-align: right;\">\n",
       "      <th></th>\n",
       "      <th>Price</th>\n",
       "      <th>Location</th>\n",
       "      <th>Type</th>\n",
       "      <th>Area</th>\n",
       "      <th>Building</th>\n",
       "      <th>Walk</th>\n",
       "      <th>Years</th>\n",
       "    </tr>\n",
       "  </thead>\n",
       "  <tbody>\n",
       "    <tr>\n",
       "      <th>count</th>\n",
       "      <td>147.000000</td>\n",
       "      <td>147</td>\n",
       "      <td>147</td>\n",
       "      <td>147.000000</td>\n",
       "      <td>147.000000</td>\n",
       "      <td>147.000000</td>\n",
       "      <td>147.000000</td>\n",
       "    </tr>\n",
       "    <tr>\n",
       "      <th>unique</th>\n",
       "      <td>NaN</td>\n",
       "      <td>4</td>\n",
       "      <td>13</td>\n",
       "      <td>NaN</td>\n",
       "      <td>NaN</td>\n",
       "      <td>NaN</td>\n",
       "      <td>NaN</td>\n",
       "    </tr>\n",
       "    <tr>\n",
       "      <th>top</th>\n",
       "      <td>NaN</td>\n",
       "      <td>世田谷区</td>\n",
       "      <td>3LDK</td>\n",
       "      <td>NaN</td>\n",
       "      <td>NaN</td>\n",
       "      <td>NaN</td>\n",
       "      <td>NaN</td>\n",
       "    </tr>\n",
       "    <tr>\n",
       "      <th>freq</th>\n",
       "      <td>NaN</td>\n",
       "      <td>62</td>\n",
       "      <td>45</td>\n",
       "      <td>NaN</td>\n",
       "      <td>NaN</td>\n",
       "      <td>NaN</td>\n",
       "      <td>NaN</td>\n",
       "    </tr>\n",
       "    <tr>\n",
       "      <th>mean</th>\n",
       "      <td>6965.775510</td>\n",
       "      <td>NaN</td>\n",
       "      <td>NaN</td>\n",
       "      <td>97.386667</td>\n",
       "      <td>109.255918</td>\n",
       "      <td>10.945578</td>\n",
       "      <td>21.020408</td>\n",
       "    </tr>\n",
       "    <tr>\n",
       "      <th>std</th>\n",
       "      <td>5556.659261</td>\n",
       "      <td>NaN</td>\n",
       "      <td>NaN</td>\n",
       "      <td>70.421412</td>\n",
       "      <td>67.794527</td>\n",
       "      <td>6.049773</td>\n",
       "      <td>14.231679</td>\n",
       "    </tr>\n",
       "    <tr>\n",
       "      <th>min</th>\n",
       "      <td>1310.000000</td>\n",
       "      <td>NaN</td>\n",
       "      <td>NaN</td>\n",
       "      <td>22.120000</td>\n",
       "      <td>29.330000</td>\n",
       "      <td>0.000000</td>\n",
       "      <td>0.000000</td>\n",
       "    </tr>\n",
       "    <tr>\n",
       "      <th>25%</th>\n",
       "      <td>4000.000000</td>\n",
       "      <td>NaN</td>\n",
       "      <td>NaN</td>\n",
       "      <td>53.490000</td>\n",
       "      <td>70.570000</td>\n",
       "      <td>7.000000</td>\n",
       "      <td>10.500000</td>\n",
       "    </tr>\n",
       "    <tr>\n",
       "      <th>50%</th>\n",
       "      <td>5140.000000</td>\n",
       "      <td>NaN</td>\n",
       "      <td>NaN</td>\n",
       "      <td>76.170000</td>\n",
       "      <td>90.830000</td>\n",
       "      <td>10.000000</td>\n",
       "      <td>20.000000</td>\n",
       "    </tr>\n",
       "    <tr>\n",
       "      <th>75%</th>\n",
       "      <td>7035.000000</td>\n",
       "      <td>NaN</td>\n",
       "      <td>NaN</td>\n",
       "      <td>107.095000</td>\n",
       "      <td>114.950000</td>\n",
       "      <td>14.000000</td>\n",
       "      <td>29.000000</td>\n",
       "    </tr>\n",
       "    <tr>\n",
       "      <th>max</th>\n",
       "      <td>35020.000000</td>\n",
       "      <td>NaN</td>\n",
       "      <td>NaN</td>\n",
       "      <td>523.910000</td>\n",
       "      <td>466.460000</td>\n",
       "      <td>35.000000</td>\n",
       "      <td>63.000000</td>\n",
       "    </tr>\n",
       "  </tbody>\n",
       "</table>\n",
       "</div>"
      ],
      "text/plain": [
       "               Price Location  Type        Area    Building        Walk  \\\n",
       "count     147.000000      147   147  147.000000  147.000000  147.000000   \n",
       "unique           NaN        4    13         NaN         NaN         NaN   \n",
       "top              NaN     世田谷区  3LDK         NaN         NaN         NaN   \n",
       "freq             NaN       62    45         NaN         NaN         NaN   \n",
       "mean     6965.775510      NaN   NaN   97.386667  109.255918   10.945578   \n",
       "std      5556.659261      NaN   NaN   70.421412   67.794527    6.049773   \n",
       "min      1310.000000      NaN   NaN   22.120000   29.330000    0.000000   \n",
       "25%      4000.000000      NaN   NaN   53.490000   70.570000    7.000000   \n",
       "50%      5140.000000      NaN   NaN   76.170000   90.830000   10.000000   \n",
       "75%      7035.000000      NaN   NaN  107.095000  114.950000   14.000000   \n",
       "max     35020.000000      NaN   NaN  523.910000  466.460000   35.000000   \n",
       "\n",
       "             Years  \n",
       "count   147.000000  \n",
       "unique         NaN  \n",
       "top            NaN  \n",
       "freq           NaN  \n",
       "mean     21.020408  \n",
       "std      14.231679  \n",
       "min       0.000000  \n",
       "25%      10.500000  \n",
       "50%      20.000000  \n",
       "75%      29.000000  \n",
       "max      63.000000  "
      ]
     },
     "execution_count": 4,
     "metadata": {},
     "output_type": "execute_result"
    }
   ],
   "source": [
    "# include='all'とすると、文字列も含め要約統計量を確認\n",
    "df1.describe(include='all')"
   ]
  },
  {
   "cell_type": "code",
   "execution_count": 5,
   "metadata": {},
   "outputs": [
    {
     "data": {
      "text/plain": [
       "Price       0\n",
       "Location    0\n",
       "Type        0\n",
       "Area        0\n",
       "Building    0\n",
       "Walk        0\n",
       "Years       0\n",
       "dtype: int64"
      ]
     },
     "execution_count": 5,
     "metadata": {},
     "output_type": "execute_result"
    }
   ],
   "source": [
    "# 欠損値を確認\n",
    "df1.isnull().sum()"
   ]
  },
  {
   "cell_type": "code",
   "execution_count": 6,
   "metadata": {},
   "outputs": [
    {
     "data": {
      "image/png": "[encoded data removed]",
      "text/plain": [
       "<Figure size 432x288 with 25 Axes>"
      ]
     },
     "metadata": {},
     "output_type": "display_data"
    }
   ],
   "source": [
    "# データ全体の散布図行列を確認\n",
    "pd.plotting.scatter_matrix(df1);"
   ]
  },
  {
   "cell_type": "code",
   "execution_count": 7,
   "metadata": {},
   "outputs": [
    {
     "data": {
      "image/png": "[encoded data removed]",
      "text/plain": [
       "<Figure size 432x288 with 1 Axes>"
      ]
     },
     "metadata": {},
     "output_type": "display_data"
    }
   ],
   "source": [
    "# 住宅価格（教師ラベル）のヒストグラム\n",
    "df1[['Price']].hist();"
   ]
  },
  {
   "cell_type": "code",
   "execution_count": 8,
   "metadata": {},
   "outputs": [
    {
     "data": {
      "image/png": "[encoded data removed]",
      "text/plain": [
       "<Figure size 432x288 with 1 Axes>"
      ]
     },
     "metadata": {},
     "output_type": "display_data"
    }
   ],
   "source": [
    "# 上のヒストグラムを確認すると7000前後で頻度に大きな違いが見られる。より細かく確認するためにbins幅を狭める(1000万円から1億円の範囲)\n",
    "df1[['Price']].hist(range=(1000, 10000), bins=90);"
   ]
  },
  {
   "cell_type": "code",
   "execution_count": 9,
   "metadata": {},
   "outputs": [
    {
     "data": {
      "text/plain": [
       "8     (7000, 7100]\n",
       "69    (7000, 7100]\n",
       "51    (7100, 7200]\n",
       "52    (7600, 7700]\n",
       "53    (7800, 7900]\n",
       "Name: Price, dtype: category\n",
       "Categories (9, interval[int64]): [(7000, 7100] < (7100, 7200] < (7200, 7300] < (7300, 7400] ... (7500, 7600] < (7600, 7700] < (7700, 7800] < (7800, 7900]]"
      ]
     },
     "execution_count": 9,
     "metadata": {},
     "output_type": "execute_result"
    }
   ],
   "source": [
    "# 度数で確認\n",
    "# pandas.cut(データ, データ区間)で、データ区間でカテゴライズできる。\n",
    "# データ区間に存在しない場合nanになるので、dropnaで削除する。\n",
    "pd.cut(df1.Price, range(7000, 8000, 100)).dropna().sort_values()"
   ]
  },
  {
   "cell_type": "code",
   "execution_count": 10,
   "metadata": {},
   "outputs": [
    {
     "data": {
      "text/plain": [
       "(112, 7)"
      ]
     },
     "execution_count": 10,
     "metadata": {},
     "output_type": "execute_result"
    }
   ],
   "source": [
    "# 7200から7600の間にデータがない。\n",
    "# 頻度に大きな差があるのでまとめて予測することは難しい。\n",
    "# よって7200以下のデータを用いる\n",
    "\n",
    "df2 = df1[df1.Price <= 7200]\n",
    "df2.shape"
   ]
  },
  {
   "cell_type": "code",
   "execution_count": 11,
   "metadata": {},
   "outputs": [
    {
     "data": {
      "text/html": [
       "<div>\n",
       "<style scoped>\n",
       "    .dataframe tbody tr th:only-of-type {\n",
       "        vertical-align: middle;\n",
       "    }\n",
       "\n",
       "    .dataframe tbody tr th {\n",
       "        vertical-align: top;\n",
       "    }\n",
       "\n",
       "    .dataframe thead th {\n",
       "        text-align: right;\n",
       "    }\n",
       "</style>\n",
       "<table border=\"1\" class=\"dataframe\">\n",
       "  <thead>\n",
       "    <tr style=\"text-align: right;\">\n",
       "      <th></th>\n",
       "      <th>Price</th>\n",
       "      <th>Area</th>\n",
       "      <th>Building</th>\n",
       "      <th>Walk</th>\n",
       "      <th>Years</th>\n",
       "    </tr>\n",
       "  </thead>\n",
       "  <tbody>\n",
       "    <tr>\n",
       "      <th>Price</th>\n",
       "      <td>1.000000</td>\n",
       "      <td>0.456507</td>\n",
       "      <td>0.554203</td>\n",
       "      <td>-0.217603</td>\n",
       "      <td>-0.443185</td>\n",
       "    </tr>\n",
       "    <tr>\n",
       "      <th>Area</th>\n",
       "      <td>0.456507</td>\n",
       "      <td>1.000000</td>\n",
       "      <td>0.677117</td>\n",
       "      <td>0.149516</td>\n",
       "      <td>-0.097824</td>\n",
       "    </tr>\n",
       "    <tr>\n",
       "      <th>Building</th>\n",
       "      <td>0.554203</td>\n",
       "      <td>0.677117</td>\n",
       "      <td>1.000000</td>\n",
       "      <td>-0.058664</td>\n",
       "      <td>-0.230042</td>\n",
       "    </tr>\n",
       "    <tr>\n",
       "      <th>Walk</th>\n",
       "      <td>-0.217603</td>\n",
       "      <td>0.149516</td>\n",
       "      <td>-0.058664</td>\n",
       "      <td>1.000000</td>\n",
       "      <td>0.134271</td>\n",
       "    </tr>\n",
       "    <tr>\n",
       "      <th>Years</th>\n",
       "      <td>-0.443185</td>\n",
       "      <td>-0.097824</td>\n",
       "      <td>-0.230042</td>\n",
       "      <td>0.134271</td>\n",
       "      <td>1.000000</td>\n",
       "    </tr>\n",
       "  </tbody>\n",
       "</table>\n",
       "</div>"
      ],
      "text/plain": [
       "             Price      Area  Building      Walk     Years\n",
       "Price     1.000000  0.456507  0.554203 -0.217603 -0.443185\n",
       "Area      0.456507  1.000000  0.677117  0.149516 -0.097824\n",
       "Building  0.554203  0.677117  1.000000 -0.058664 -0.230042\n",
       "Walk     -0.217603  0.149516 -0.058664  1.000000  0.134271\n",
       "Years    -0.443185 -0.097824 -0.230042  0.134271  1.000000"
      ]
     },
     "execution_count": 11,
     "metadata": {},
     "output_type": "execute_result"
    }
   ],
   "source": [
    "# 相関係数行列を表示\n",
    "df2.corr()"
   ]
  },
  {
   "cell_type": "code",
   "execution_count": 12,
   "metadata": {},
   "outputs": [
    {
     "data": {
      "image/png": "[encoded data removed]",
      "text/plain": [
       "<Figure size 720x216 with 3 Axes>"
      ]
     },
     "metadata": {},
     "output_type": "display_data"
    }
   ],
   "source": [
    "# Priceとの散布図\n",
    "for i, col in enumerate(['Building', 'Walk', 'Years'], 1):\n",
    "    df2.plot(col, 'Price', kind='scatter',\n",
    "             figsize=(10, 3), ax=plt.subplot(1, 3, i))"
   ]
  },
  {
   "cell_type": "code",
   "execution_count": 13,
   "metadata": {},
   "outputs": [
    {
     "data": {
      "text/html": [
       "<div>\n",
       "<style scoped>\n",
       "    .dataframe tbody tr th:only-of-type {\n",
       "        vertical-align: middle;\n",
       "    }\n",
       "\n",
       "    .dataframe tbody tr th {\n",
       "        vertical-align: top;\n",
       "    }\n",
       "\n",
       "    .dataframe thead th {\n",
       "        text-align: right;\n",
       "    }\n",
       "</style>\n",
       "<table border=\"1\" class=\"dataframe\">\n",
       "  <thead>\n",
       "    <tr style=\"text-align: right;\">\n",
       "      <th></th>\n",
       "      <th>Price</th>\n",
       "      <th>Location</th>\n",
       "      <th>Type</th>\n",
       "      <th>Building</th>\n",
       "      <th>Years</th>\n",
       "    </tr>\n",
       "  </thead>\n",
       "  <tbody>\n",
       "    <tr>\n",
       "      <th>0</th>\n",
       "      <td>1620</td>\n",
       "      <td>江戸川区</td>\n",
       "      <td>3DK</td>\n",
       "      <td>52.31</td>\n",
       "      <td>39.0</td>\n",
       "    </tr>\n",
       "    <tr>\n",
       "      <th>1</th>\n",
       "      <td>3840</td>\n",
       "      <td>江戸川区</td>\n",
       "      <td>3LDK</td>\n",
       "      <td>95.60</td>\n",
       "      <td>28.0</td>\n",
       "    </tr>\n",
       "    <tr>\n",
       "      <th>2</th>\n",
       "      <td>4490</td>\n",
       "      <td>杉並区</td>\n",
       "      <td>3DK</td>\n",
       "      <td>76.60</td>\n",
       "      <td>22.0</td>\n",
       "    </tr>\n",
       "  </tbody>\n",
       "</table>\n",
       "</div>"
      ],
      "text/plain": [
       "   Price Location  Type  Building  Years\n",
       "0   1620     江戸川区   3DK     52.31   39.0\n",
       "1   3840     江戸川区  3LDK     95.60   28.0\n",
       "2   4490      杉並区   3DK     76.60   22.0"
      ]
     },
     "execution_count": 13,
     "metadata": {},
     "output_type": "execute_result"
    }
   ],
   "source": [
    "# DataFrame.drop(列名リスト, 1)で列名削除した新しいDataFrame作成\n",
    "# PriceとWalkの相関は-0.22と低いため説明変数から除外\n",
    "# AreaとBuildingの相関係数は0.68でやや強い相関があり、多重共線性がある。\n",
    "# Priceと比べた時Buildingの方が相関係数の絶対値が大きいため、Areaを除外\n",
    "df3 = df2.drop(['Area', 'Walk'], 1)\n",
    "df3.head(3)"
   ]
  },
  {
   "cell_type": "markdown",
   "metadata": {},
   "source": [
    "## Locationを数値データにして回帰モデルで使えるようにする"
   ]
  },
  {
   "cell_type": "code",
   "execution_count": 14,
   "metadata": {},
   "outputs": [
    {
     "data": {
      "text/plain": [
       "世田谷区    38\n",
       "杉並区     38\n",
       "江戸川区    22\n",
       "葛飾区     14\n",
       "Name: Location, dtype: int64"
      ]
     },
     "execution_count": 14,
     "metadata": {},
     "output_type": "execute_result"
    }
   ],
   "source": [
    "# Locationごとのデータの個数\n",
    "df3.Location.value_counts()"
   ]
  },
  {
   "cell_type": "code",
   "execution_count": 15,
   "metadata": {},
   "outputs": [
    {
     "data": {
      "image/png": "[encoded data removed]",
      "text/plain": [
       "<Figure size 432x288 with 1 Axes>"
      ]
     },
     "metadata": {},
     "output_type": "display_data"
    }
   ],
   "source": [
    "# ヒストグラムで確認すると4つの区で分布に差があることがわかる\n",
    "g_price = df3.groupby('Location').Price\n",
    "g_price.hist(alpha=0.5, range=(0, 7200), bins=18);"
   ]
  },
  {
   "cell_type": "code",
   "execution_count": 16,
   "metadata": {},
   "outputs": [
    {
     "data": {
      "text/plain": [
       "Location\n",
       "世田谷区    5224.473684\n",
       "杉並区     4808.421053\n",
       "江戸川区    3576.727273\n",
       "葛飾区     3097.214286\n",
       "Name: Price, dtype: float64"
      ]
     },
     "execution_count": 16,
     "metadata": {},
     "output_type": "execute_result"
    }
   ],
   "source": [
    "# Locationの値ごとのPriceの平均\n",
    "g_price.mean()"
   ]
  },
  {
   "cell_type": "code",
   "execution_count": 29,
   "metadata": {},
   "outputs": [],
   "source": [
    "# 区ごとに値を設定\n",
    "df4 = df3.drop('Location', 1)\n",
    "df4['Loc'] = df3.Location.map({\n",
    "    '世田谷区': 'High', \n",
    "    '杉並区': 'High', \n",
    "    '江戸川区':'Low',\n",
    "    '葛飾区': 'Low'\n",
    "})"
   ]
  },
  {
   "cell_type": "code",
   "execution_count": 30,
   "metadata": {},
   "outputs": [
    {
     "data": {
      "text/html": [
       "<div>\n",
       "<style scoped>\n",
       "    .dataframe tbody tr th:only-of-type {\n",
       "        vertical-align: middle;\n",
       "    }\n",
       "\n",
       "    .dataframe tbody tr th {\n",
       "        vertical-align: top;\n",
       "    }\n",
       "\n",
       "    .dataframe thead th {\n",
       "        text-align: right;\n",
       "    }\n",
       "</style>\n",
       "<table border=\"1\" class=\"dataframe\">\n",
       "  <thead>\n",
       "    <tr style=\"text-align: right;\">\n",
       "      <th></th>\n",
       "      <th>Price</th>\n",
       "      <th>Type</th>\n",
       "      <th>Building</th>\n",
       "      <th>Years</th>\n",
       "      <th>Loc</th>\n",
       "    </tr>\n",
       "  </thead>\n",
       "  <tbody>\n",
       "    <tr>\n",
       "      <th>0</th>\n",
       "      <td>1620</td>\n",
       "      <td>3DK</td>\n",
       "      <td>52.31</td>\n",
       "      <td>39.0</td>\n",
       "      <td>Low</td>\n",
       "    </tr>\n",
       "    <tr>\n",
       "      <th>1</th>\n",
       "      <td>3840</td>\n",
       "      <td>3LDK</td>\n",
       "      <td>95.60</td>\n",
       "      <td>28.0</td>\n",
       "      <td>Low</td>\n",
       "    </tr>\n",
       "    <tr>\n",
       "      <th>2</th>\n",
       "      <td>4490</td>\n",
       "      <td>3DK</td>\n",
       "      <td>76.60</td>\n",
       "      <td>22.0</td>\n",
       "      <td>High</td>\n",
       "    </tr>\n",
       "    <tr>\n",
       "      <th>3</th>\n",
       "      <td>5400</td>\n",
       "      <td>2LDK</td>\n",
       "      <td>77.05</td>\n",
       "      <td>10.0</td>\n",
       "      <td>High</td>\n",
       "    </tr>\n",
       "  </tbody>\n",
       "</table>\n",
       "</div>"
      ],
      "text/plain": [
       "   Price  Type  Building  Years   Loc\n",
       "0   1620   3DK     52.31   39.0   Low\n",
       "1   3840  3LDK     95.60   28.0   Low\n",
       "2   4490   3DK     76.60   22.0  High\n",
       "3   5400  2LDK     77.05   10.0  High"
      ]
     },
     "execution_count": 30,
     "metadata": {},
     "output_type": "execute_result"
    }
   ],
   "source": [
    "df4[:4]"
   ]
  },
  {
   "cell_type": "code",
   "execution_count": 31,
   "metadata": {},
   "outputs": [],
   "source": [
    "# Locのようなカテゴリデータから値に応じて0-1の新しい列を作るにはpandas.get_dummiesを利用する\n",
    "df4 = pd.get_dummies(df4, columns=['Loc'], drop_first=True)"
   ]
  },
  {
   "cell_type": "code",
   "execution_count": 32,
   "metadata": {},
   "outputs": [
    {
     "data": {
      "text/html": [
       "<div>\n",
       "<style scoped>\n",
       "    .dataframe tbody tr th:only-of-type {\n",
       "        vertical-align: middle;\n",
       "    }\n",
       "\n",
       "    .dataframe tbody tr th {\n",
       "        vertical-align: top;\n",
       "    }\n",
       "\n",
       "    .dataframe thead th {\n",
       "        text-align: right;\n",
       "    }\n",
       "</style>\n",
       "<table border=\"1\" class=\"dataframe\">\n",
       "  <thead>\n",
       "    <tr style=\"text-align: right;\">\n",
       "      <th></th>\n",
       "      <th>Price</th>\n",
       "      <th>Type</th>\n",
       "      <th>Building</th>\n",
       "      <th>Years</th>\n",
       "      <th>Loc_Low</th>\n",
       "    </tr>\n",
       "  </thead>\n",
       "  <tbody>\n",
       "    <tr>\n",
       "      <th>0</th>\n",
       "      <td>1620</td>\n",
       "      <td>3DK</td>\n",
       "      <td>52.31</td>\n",
       "      <td>39.0</td>\n",
       "      <td>1</td>\n",
       "    </tr>\n",
       "    <tr>\n",
       "      <th>1</th>\n",
       "      <td>3840</td>\n",
       "      <td>3LDK</td>\n",
       "      <td>95.60</td>\n",
       "      <td>28.0</td>\n",
       "      <td>1</td>\n",
       "    </tr>\n",
       "    <tr>\n",
       "      <th>2</th>\n",
       "      <td>4490</td>\n",
       "      <td>3DK</td>\n",
       "      <td>76.60</td>\n",
       "      <td>22.0</td>\n",
       "      <td>0</td>\n",
       "    </tr>\n",
       "    <tr>\n",
       "      <th>3</th>\n",
       "      <td>5400</td>\n",
       "      <td>2LDK</td>\n",
       "      <td>77.05</td>\n",
       "      <td>10.0</td>\n",
       "      <td>0</td>\n",
       "    </tr>\n",
       "  </tbody>\n",
       "</table>\n",
       "</div>"
      ],
      "text/plain": [
       "   Price  Type  Building  Years  Loc_Low\n",
       "0   1620   3DK     52.31   39.0        1\n",
       "1   3840  3LDK     95.60   28.0        1\n",
       "2   4490   3DK     76.60   22.0        0\n",
       "3   5400  2LDK     77.05   10.0        0"
      ]
     },
     "execution_count": 32,
     "metadata": {},
     "output_type": "execute_result"
    }
   ],
   "source": [
    "df4[:4]"
   ]
  },
  {
   "cell_type": "markdown",
   "metadata": {},
   "source": [
    "## 間取り（Type）を数値データ化"
   ]
  },
  {
   "cell_type": "code",
   "execution_count": 33,
   "metadata": {},
   "outputs": [
    {
     "data": {
      "text/plain": [
       "3LDK    33\n",
       "4LDK    24\n",
       "2LDK    24\n",
       "3DK     14\n",
       "2DK      5\n",
       "5LDK     4\n",
       "1LDK     4\n",
       "4DK      2\n",
       "5DK      1\n",
       "6LDK     1\n",
       "Name: Type, dtype: int64"
      ]
     },
     "execution_count": 33,
     "metadata": {},
     "output_type": "execute_result"
    }
   ],
   "source": [
    "df4.Type.value_counts()"
   ]
  },
  {
   "cell_type": "code",
   "execution_count": 34,
   "metadata": {},
   "outputs": [
    {
     "data": {
      "text/plain": [
       "Normal    47\n",
       "Small     33\n",
       "Large     32\n",
       "Name: Plan, dtype: int64"
      ]
     },
     "execution_count": 34,
     "metadata": {},
     "output_type": "execute_result"
    }
   ],
   "source": [
    "# Typeを3パターンに分類し、Planとして追加\n",
    "df5 = df4.drop('Type', 1)\n",
    "df5['Plan'] = pd.cut(df4.Type.str[0].astype(int), [0, 2,3,6], labels=['Small', 'Normal', 'Large'])\n",
    "df5.Plan.value_counts()"
   ]
  },
  {
   "cell_type": "code",
   "execution_count": 35,
   "metadata": {},
   "outputs": [
    {
     "data": {
      "image/png": "[encoded data removed]",
      "text/plain": [
       "<Figure size 432x288 with 1 Axes>"
      ]
     },
     "metadata": {},
     "output_type": "display_data"
    }
   ],
   "source": [
    "# カーネル密度推定のグラフを作成する\n",
    "# カーネル密度推定は確率変数の確率密度関数を推定する方法\n",
    "g_price = df5.groupby('Plan').Price\n",
    "g_price.plot.kde(legend=True);"
   ]
  },
  {
   "cell_type": "code",
   "execution_count": 36,
   "metadata": {},
   "outputs": [
    {
     "data": {
      "text/plain": [
       "Plan\n",
       "Small     4316.060606\n",
       "Normal    4058.531915\n",
       "Large     5316.187500\n",
       "Name: Price, dtype: float64"
      ]
     },
     "execution_count": 36,
     "metadata": {},
     "output_type": "execute_result"
    }
   ],
   "source": [
    "g_price.mean()"
   ]
  },
  {
   "cell_type": "code",
   "execution_count": 37,
   "metadata": {},
   "outputs": [],
   "source": [
    "df5 = pd.get_dummies(df5, columns=['Plan'], drop_first=True)"
   ]
  },
  {
   "cell_type": "code",
   "execution_count": 38,
   "metadata": {},
   "outputs": [
    {
     "data": {
      "text/html": [
       "<div>\n",
       "<style scoped>\n",
       "    .dataframe tbody tr th:only-of-type {\n",
       "        vertical-align: middle;\n",
       "    }\n",
       "\n",
       "    .dataframe tbody tr th {\n",
       "        vertical-align: top;\n",
       "    }\n",
       "\n",
       "    .dataframe thead th {\n",
       "        text-align: right;\n",
       "    }\n",
       "</style>\n",
       "<table border=\"1\" class=\"dataframe\">\n",
       "  <thead>\n",
       "    <tr style=\"text-align: right;\">\n",
       "      <th></th>\n",
       "      <th>Price</th>\n",
       "      <th>Building</th>\n",
       "      <th>Years</th>\n",
       "      <th>Loc_Low</th>\n",
       "      <th>Plan_Normal</th>\n",
       "      <th>Plan_Large</th>\n",
       "    </tr>\n",
       "  </thead>\n",
       "  <tbody>\n",
       "    <tr>\n",
       "      <th>0</th>\n",
       "      <td>1620</td>\n",
       "      <td>52.31</td>\n",
       "      <td>39.0</td>\n",
       "      <td>1</td>\n",
       "      <td>1</td>\n",
       "      <td>0</td>\n",
       "    </tr>\n",
       "    <tr>\n",
       "      <th>1</th>\n",
       "      <td>3840</td>\n",
       "      <td>95.60</td>\n",
       "      <td>28.0</td>\n",
       "      <td>1</td>\n",
       "      <td>1</td>\n",
       "      <td>0</td>\n",
       "    </tr>\n",
       "    <tr>\n",
       "      <th>2</th>\n",
       "      <td>4490</td>\n",
       "      <td>76.60</td>\n",
       "      <td>22.0</td>\n",
       "      <td>0</td>\n",
       "      <td>1</td>\n",
       "      <td>0</td>\n",
       "    </tr>\n",
       "    <tr>\n",
       "      <th>3</th>\n",
       "      <td>5400</td>\n",
       "      <td>77.05</td>\n",
       "      <td>10.0</td>\n",
       "      <td>0</td>\n",
       "      <td>0</td>\n",
       "      <td>0</td>\n",
       "    </tr>\n",
       "  </tbody>\n",
       "</table>\n",
       "</div>"
      ],
      "text/plain": [
       "   Price  Building  Years  Loc_Low  Plan_Normal  Plan_Large\n",
       "0   1620     52.31   39.0        1            1           0\n",
       "1   3840     95.60   28.0        1            1           0\n",
       "2   4490     76.60   22.0        0            1           0\n",
       "3   5400     77.05   10.0        0            0           0"
      ]
     },
     "execution_count": 38,
     "metadata": {},
     "output_type": "execute_result"
    }
   ],
   "source": [
    "df5[:4]"
   ]
  },
  {
   "cell_type": "code",
   "execution_count": null,
   "metadata": {},
   "outputs": [],
   "source": []
  }
 ],
 "metadata": {
  "kernelspec": {
   "display_name": "Python 3",
   "language": "python",
   "name": "python3"
  },
  "language_info": {
   "codemirror_mode": {
    "name": "ipython",
    "version": 3
   },
   "file_extension": ".py",
   "mimetype": "text/x-python",
   "name": "python",
   "nbconvert_exporter": "python",
   "pygments_lexer": "ipython3",
   "version": "3.6.5"
  }
 },
 "nbformat": 4,
 "nbformat_minor": 2
}
