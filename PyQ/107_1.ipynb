{
 "cells": [
  {
   "cell_type": "markdown",
   "metadata": {},
   "source": [
    "## サポートベクターマシン回帰"
   ]
  },
  {
   "cell_type": "code",
   "execution_count": 2,
   "metadata": {},
   "outputs": [],
   "source": [
    "%matplotlib inline\n",
    "%precision 3\n",
    "import pandas as pd, matplotlib.pyplot as plt\n",
    "from sklearn.datasets import load_boston\n",
    "from sklearn.model_selection import train_test_split\n",
    "from sklearn.svm import SVR\n",
    "from sklearn.metrics import r2_score\n",
    "# ボストン市の住宅価格データ\n",
    "boston = load_boston()\n",
    "X = pd.DataFrame(boston.data, columns=boston.feature_names)\n",
    "X = X[['RM', 'LSTAT']]\n",
    "# トレーニングデータとテストデータに分割\n",
    "X_train, X_test, y_train, y_test = (\n",
    "    train_test_split(X, boston.target, random_state=0))"
   ]
  },
  {
   "cell_type": "code",
   "execution_count": 3,
   "metadata": {},
   "outputs": [
    {
     "data": {
      "text/plain": [
       "0.506"
      ]
     },
     "execution_count": 3,
     "metadata": {},
     "output_type": "execute_result"
    }
   ],
   "source": [
    "# SVRで確認\n",
    "svr = SVR()\n",
    "svr.fit(X_train, y_train)\n",
    "y_pred = svr.predict(X_test)\n",
    "score1 = r2_score(y_test, y_pred)\n",
    "float(score1)"
   ]
  },
  {
   "cell_type": "code",
   "execution_count": 4,
   "metadata": {},
   "outputs": [],
   "source": [
    "def scatter(y_pred, y):\n",
    "    plt.gca().set_aspect('equal', adjustable='box') # 縦横比を1\n",
    "    plt.ylabel('y_test')\n",
    "    plt.xlabel('y_pred')\n",
    "    plt.plot([y.min(), y.max()], [y.min(), y.max()]) # 斜め４５度の青い線\n",
    "    plt.plot(y_pred, y, '.')"
   ]
  },
  {
   "cell_type": "code",
   "execution_count": 5,
   "metadata": {},
   "outputs": [
    {
     "data": {
      "image/png": "[encoded data removed]",
      "text/plain": [
       "<Figure size 432x288 with 1 Axes>"
      ]
     },
     "metadata": {},
     "output_type": "display_data"
    }
   ],
   "source": [
    "# 予測データ(y_pred)と真値(y_test)を描画\n",
    "scatter(y_pred, y_test)"
   ]
  },
  {
   "cell_type": "code",
   "execution_count": 6,
   "metadata": {},
   "outputs": [
    {
     "data": {
      "text/plain": [
       "0.648"
      ]
     },
     "execution_count": 6,
     "metadata": {},
     "output_type": "execute_result"
    }
   ],
   "source": [
    "# グリッドサーチで探索\n",
    "# グリッドサーチは与えられたオプションの組み合わせを全て探索する。\n",
    "# 各探索の中でクロスバリデーションを行う\n",
    "from sklearn.model_selection import GridSearchCV\n",
    "gscv = GridSearchCV(SVR(), {\n",
    "    'C': [50, 60, 70, 80, 90],\n",
    "    'gamma': [0.04, 0.05, 0.06, 0.07, 0.08]},\n",
    "                   scoring='r2')\n",
    "gscv.fit(X_train, y_train)\n",
    "y_pred = gscv.predict(X_test)\n",
    "score2 = r2_score(y_test, y_pred)\n",
    "float(score2)"
   ]
  },
  {
   "cell_type": "code",
   "execution_count": 7,
   "metadata": {},
   "outputs": [
    {
     "data": {
      "text/plain": [
       "{'C': 70, 'gamma': 0.060}"
      ]
     },
     "execution_count": 7,
     "metadata": {},
     "output_type": "execute_result"
    }
   ],
   "source": [
    "# 選択されたパラメーター\n",
    "gscv.best_params_"
   ]
  },
  {
   "cell_type": "code",
   "execution_count": 8,
   "metadata": {},
   "outputs": [
    {
     "data": {
      "image/png": "[encoded data removed]",
      "text/plain": [
       "<Figure size 432x288 with 1 Axes>"
      ]
     },
     "metadata": {},
     "output_type": "display_data"
    }
   ],
   "source": [
    "# 予測データ(y_pred)と真値(y_test)を描画\n",
    "scatter(y_pred, y_test)"
   ]
  },
  {
   "cell_type": "markdown",
   "metadata": {},
   "source": [
    "## ランダムフォレスト回帰\n",
    "- 複数の決定木を使うアンサンブル学習\n",
    "- 外れ値の影響を受けにくい\n",
    "- デメリットは予測値がカテゴリ化しやすい"
   ]
  },
  {
   "cell_type": "code",
   "execution_count": 9,
   "metadata": {},
   "outputs": [
    {
     "data": {
      "text/plain": [
       "0.667"
      ]
     },
     "execution_count": 9,
     "metadata": {},
     "output_type": "execute_result"
    }
   ],
   "source": [
    "# RandomForestRegressorで確認\n",
    "from sklearn.ensemble import RandomForestRegressor\n",
    "forest = RandomForestRegressor(random_state=0)\n",
    "forest.fit(X_train, y_train)\n",
    "y_pred = forest.predict(X_test)\n",
    "score3 = r2_score(y_test, y_pred)\n",
    "float(score3)"
   ]
  },
  {
   "cell_type": "code",
   "execution_count": 10,
   "metadata": {},
   "outputs": [
    {
     "data": {
      "text/plain": [
       "0.695"
      ]
     },
     "execution_count": 10,
     "metadata": {},
     "output_type": "execute_result"
    }
   ],
   "source": [
    "# グリッドサーチで探索\n",
    "# max_depth: 枝分かれする木の深さ。大きすぎると過学習になる\n",
    "# min_samples_leaf: 葉の最小のデータ数。大きくするとラフなモデルになる\n",
    "gscv = GridSearchCV(RandomForestRegressor(),{\n",
    "    'max_depth':[2,3,4],\n",
    "    'min_samples_leaf':[1,2],\n",
    "    'random_state': [0]},\n",
    "    scoring='r2')\n",
    "gscv.fit(X_train, y_train)\n",
    "y_pred = gscv.predict(X_test)\n",
    "score4 = r2_score(y_test,y_pred)\n",
    "float(score4)"
   ]
  },
  {
   "cell_type": "code",
   "execution_count": 11,
   "metadata": {},
   "outputs": [
    {
     "data": {
      "text/plain": [
       "{'max_depth': 3, 'min_samples_leaf': 2, 'random_state': 0}"
      ]
     },
     "execution_count": 11,
     "metadata": {},
     "output_type": "execute_result"
    }
   ],
   "source": [
    "# 選択されたパラメーター\n",
    "gscv.best_params_"
   ]
  },
  {
   "cell_type": "code",
   "execution_count": 12,
   "metadata": {},
   "outputs": [
    {
     "data": {
      "image/png": "[encoded data removed]",
      "text/plain": [
       "<Figure size 432x288 with 1 Axes>"
      ]
     },
     "metadata": {},
     "output_type": "display_data"
    }
   ],
   "source": [
    "# 予測データ(y_pred)と真値(y_test)を描画\n",
    "scatter(y_pred, y_test)"
   ]
  },
  {
   "cell_type": "markdown",
   "metadata": {},
   "source": [
    "# 非線形回帰の確認"
   ]
  },
  {
   "cell_type": "code",
   "execution_count": 13,
   "metadata": {},
   "outputs": [],
   "source": [
    "from sklearn.datasets import load_boston\n",
    "from sklearn.svm import SVR\n",
    "from sklearn.ensemble import RandomForestRegressor\n",
    "from sklearn.model_selection import GridSearchCV\n",
    "from sklearn.metrics import r2_score\n",
    "# サンプルデータ\n",
    "X, y = load_boston(True)\n",
    "X = X[:, [5, 12]]"
   ]
  },
  {
   "cell_type": "code",
   "execution_count": 14,
   "metadata": {},
   "outputs": [
    {
     "data": {
      "text/plain": [
       "0.780"
      ]
     },
     "execution_count": 14,
     "metadata": {},
     "output_type": "execute_result"
    }
   ],
   "source": [
    "from sklearn.model_selection import GridSearchCV\n",
    "\n",
    "gscv1 = GridSearchCV(SVR(), {\n",
    "    'C': [0.1, 1, 10],\n",
    "    'gamma': [0.1, 1, 10]},\n",
    "    scoring='r2')\n",
    "gscv1.fit(X, y)\n",
    "y_pred = gscv1.predict(X)\n",
    "score1 = r2_score(y, y_pred)\n",
    "float(score1)"
   ]
  },
  {
   "cell_type": "code",
   "execution_count": 15,
   "metadata": {},
   "outputs": [
    {
     "data": {
      "text/plain": [
       "SVR(C=10, cache_size=200, coef0=0.0, degree=3, epsilon=0.1, gamma=0.1,\n",
       "  kernel='rbf', max_iter=-1, shrinking=True, tol=0.001, verbose=False)"
      ]
     },
     "execution_count": 15,
     "metadata": {},
     "output_type": "execute_result"
    }
   ],
   "source": [
    "gscv1.best_estimator_"
   ]
  },
  {
   "cell_type": "code",
   "execution_count": 16,
   "metadata": {},
   "outputs": [
    {
     "data": {
      "text/plain": [
       "0.827"
      ]
     },
     "execution_count": 16,
     "metadata": {},
     "output_type": "execute_result"
    }
   ],
   "source": [
    "gscv2 = GridSearchCV(RandomForestRegressor(),{\n",
    "    'max_depth':[2,3,4],\n",
    "    'min_samples_leaf':[1,2],\n",
    "    'random_state':[0]})\n",
    "gscv2.fit(X, y)\n",
    "y_pred = gscv2.predict(X)\n",
    "score2 = r2_score(y, y_pred)\n",
    "float(score2)"
   ]
  },
  {
   "cell_type": "code",
   "execution_count": 17,
   "metadata": {},
   "outputs": [
    {
     "data": {
      "text/plain": [
       "RandomForestRegressor(bootstrap=True, criterion='mse', max_depth=4,\n",
       "           max_features='auto', max_leaf_nodes=None,\n",
       "           min_impurity_decrease=0.0, min_impurity_split=None,\n",
       "           min_samples_leaf=2, min_samples_split=2,\n",
       "           min_weight_fraction_leaf=0.0, n_estimators=10, n_jobs=1,\n",
       "           oob_score=False, random_state=0, verbose=0, warm_start=False)"
      ]
     },
     "execution_count": 17,
     "metadata": {},
     "output_type": "execute_result"
    }
   ],
   "source": [
    "gscv2.best_estimator_"
   ]
  },
  {
   "cell_type": "code",
   "execution_count": null,
   "metadata": {},
   "outputs": [],
   "source": []
  }
 ],
 "metadata": {
  "kernelspec": {
   "display_name": "Python 3",
   "language": "python",
   "name": "python3"
  },
  "language_info": {
   "codemirror_mode": {
    "name": "ipython",
    "version": 3
   },
   "file_extension": ".py",
   "mimetype": "text/x-python",
   "name": "python",
   "nbconvert_exporter": "python",
   "pygments_lexer": "ipython3",
   "version": "3.6.5"
  }
 },
 "nbformat": 4,
 "nbformat_minor": 2
}
