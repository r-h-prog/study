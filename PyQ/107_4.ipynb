{
 "cells": [
  {
   "cell_type": "markdown",
   "metadata": {},
   "source": [
    "## AICとは\n",
    "- 統計モデルを評価するための指標\n",
    "- 小さい程良い\n",
    "- AICを使うとテストデータを使わず、学習データだけで（ある程度）学習が可能"
   ]
  },
  {
   "cell_type": "code",
   "execution_count": 1,
   "metadata": {},
   "outputs": [],
   "source": [
    "import pandas as pd\n",
    "from sklearn.linear_model import LinearRegression\n",
    "from sklearn.datasets import load_boston\n",
    "boston = load_boston()\n",
    "X = pd.DataFrame(boston.data, columns=boston.feature_names)\n",
    "y = boston.target"
   ]
  },
  {
   "cell_type": "code",
   "execution_count": 2,
   "metadata": {},
   "outputs": [],
   "source": [
    "# AICの計算\n",
    "def AIC(model, X, y):\n",
    "    from sklearn.metrics import mean_squared_error\n",
    "    from math import log, pi\n",
    "    n = len(y)\n",
    "    mse = mean_squared_error(y, model.predict(X))\n",
    "    k = model.coef_.shape[0] + int(model.fit_intercept)\n",
    "    d = max(1e-308, 2*pi*mse)\n",
    "    return n*(log(d) + 1) + 2*k"
   ]
  },
  {
   "cell_type": "code",
   "execution_count": 3,
   "metadata": {},
   "outputs": [
    {
     "data": {
      "text/plain": [
       "3025.6767200074596"
      ]
     },
     "execution_count": 3,
     "metadata": {},
     "output_type": "execute_result"
    }
   ],
   "source": [
    "# サンプルでAICの計算\n",
    "lr1 = LinearRegression().fit(X, y)\n",
    "aic1 = AIC(lr1, X, y)\n",
    "aic1"
   ]
  },
  {
   "cell_type": "code",
   "execution_count": 4,
   "metadata": {},
   "outputs": [
    {
     "data": {
      "text/plain": [
       "-1408.3924172843322"
      ]
     },
     "execution_count": 4,
     "metadata": {},
     "output_type": "execute_result"
    }
   ],
   "source": [
    "X2, y2 = [[2, -1, 3],[-1, 2, -2]], [1,0]\n",
    "lr2 = LinearRegression().fit(X2, y2)\n",
    "aic2 = AIC(lr2, X2, y2)\n",
    "aic2"
   ]
  },
  {
   "cell_type": "markdown",
   "metadata": {},
   "source": [
    "#### AICの計算式\n",
    "\n",
    "$-2\\times{log L} +2\\times{k}$\n",
    "\n",
    "- ただし、最大尤度をL、「説明変数と定数項の数」をkとする\n",
    "- 最大尤度は各データの起こりやすさの積\n",
    "- $-2\\times{log L}$は当てはまりの良さを評価\n",
    "- $2\\times{k}$はパラメータの少なさを評価"
   ]
  },
  {
   "cell_type": "markdown",
   "metadata": {},
   "source": [
    "上の式は誤差が正規分布に従うものとして次の式に置換できる\n",
    "\n",
    "$AIC = n\\times{(log (2\\times{\\pi}\\times{MSE}) + 1) + 2\\times{k}}$\n",
    "\n",
    "- ただし、nはデータ数、MSEは平均二乗誤差"
   ]
  },
  {
   "cell_type": "code",
   "execution_count": 9,
   "metadata": {},
   "outputs": [],
   "source": [
    "# AICの計算式\n",
    "def AIC(model, X, y):\n",
    "    from sklearn.metrics import mean_squared_error\n",
    "    from math import log, pi\n",
    "    n = len(y)\n",
    "    mse = mean_squared_error(y, model.predict(X))\n",
    "    # int(model.fit_intercept)は、定数項がある場合に1、ない場合に0になる。\n",
    "    k = model.coef_.shape[0] + int(model.fit_intercept)\n",
    "    # dが0だとlog(d)がエラーになるので、1e-308以上にする。\n",
    "    d = max(1e-308, 2 * pi * mse)\n",
    "    return n * (log(d) + 1) + 2 * k"
   ]
  },
  {
   "cell_type": "code",
   "execution_count": 10,
   "metadata": {},
   "outputs": [
    {
     "data": {
      "text/plain": [
       "3025.6767200074596"
      ]
     },
     "execution_count": 10,
     "metadata": {},
     "output_type": "execute_result"
    }
   ],
   "source": [
    "# サンプルでAICの計算\n",
    "lr1 = LinearRegression().fit(X, y)\n",
    "aic1 = AIC(lr1, X, y)\n",
    "aic1"
   ]
  },
  {
   "cell_type": "code",
   "execution_count": 11,
   "metadata": {},
   "outputs": [
    {
     "data": {
      "text/plain": [
       "-1408.3924172843322"
      ]
     },
     "execution_count": 11,
     "metadata": {},
     "output_type": "execute_result"
    }
   ],
   "source": [
    "# ダミーデータでAICの計算\n",
    "X2, y2 = [[2, -1, 3], [-1, 2, -2]], [1, 0]\n",
    "lr2 = LinearRegression().fit(X2, y2)\n",
    "aic2 = AIC(lr2, X2, y2)\n",
    "aic2"
   ]
  },
  {
   "cell_type": "markdown",
   "metadata": {},
   "source": [
    "## lru_cacheの使い方\n",
    "- Last Recently Usedの略\n",
    "- 直近で使われていないデータを最初に捨てるキャッシュアルゴリズム\n",
    "- 使い方：関数に`@lru_cache(maxsize=1024)`を追加"
   ]
  },
  {
   "cell_type": "code",
   "execution_count": 12,
   "metadata": {},
   "outputs": [],
   "source": [
    "from functools import lru_cache"
   ]
  },
  {
   "cell_type": "code",
   "execution_count": 13,
   "metadata": {},
   "outputs": [],
   "source": [
    "# キャッシュなしで実行\n",
    "class Fibonacci:\n",
    "    count = 0\n",
    "    def fib(self, n):\n",
    "        Fibonacci.count += 1\n",
    "        return n if n < 2 else self.fib(n -1) + self.fib(n - 2)"
   ]
  },
  {
   "cell_type": "code",
   "execution_count": 14,
   "metadata": {},
   "outputs": [
    {
     "data": {
      "text/plain": [
       "2692537"
      ]
     },
     "execution_count": 14,
     "metadata": {},
     "output_type": "execute_result"
    }
   ],
   "source": [
    "Fibonacci().fib(30)\n",
    "count1 = Fibonacci.count\n",
    "count1"
   ]
  },
  {
   "cell_type": "code",
   "execution_count": 15,
   "metadata": {},
   "outputs": [],
   "source": [
    "# キャッシュありで実行\n",
    "class Fibonacci:\n",
    "    count = 0\n",
    "    @lru_cache(maxsize=1024)\n",
    "    def fib(self, n):\n",
    "        Fibonacci.count += 1\n",
    "        return n if n < 2 else self.fib(n - 1) + self.fib(n - 2)"
   ]
  },
  {
   "cell_type": "code",
   "execution_count": 16,
   "metadata": {},
   "outputs": [
    {
     "data": {
      "text/plain": [
       "31"
      ]
     },
     "execution_count": 16,
     "metadata": {},
     "output_type": "execute_result"
    }
   ],
   "source": [
    "Fibonacci().fib(30)\n",
    "count2 = Fibonacci.count\n",
    "count2"
   ]
  },
  {
   "cell_type": "markdown",
   "metadata": {},
   "source": [
    "## ステップワイズ法\n",
    "- たくさんの説明変数の中から汎化性能の高い説明変数の組み合わせを求める、アルゴリズム\n",
    "- 変数増減法: ステップワイズ法の一つ。からの状態から追加と削除を繰り返す"
   ]
  },
  {
   "cell_type": "code",
   "execution_count": 18,
   "metadata": {},
   "outputs": [],
   "source": [
    "%matplotlib inline\n",
    "import matplotlib.pyplot as plt\n",
    "from sklearn.model_selection import cross_val_score\n",
    "from functools import lru_cache"
   ]
  },
  {
   "cell_type": "code",
   "execution_count": 19,
   "metadata": {},
   "outputs": [],
   "source": [
    "# ステップワイズ法のサブルーチン\n",
    "# 頭に_をつけると非公開であることを表す\n",
    "def _calc_best(calc_aic, best, N, is_add):\n",
    "    found, cur = False, best\n",
    "    for i in range(N):\n",
    "        key = (best[1] | {i}) if is_add else (best[1] - {i})\n",
    "        v = calc_aic(tuple(key))\n",
    "        if v < cur[0]:\n",
    "            cur = v, key\n",
    "    if cur[0] < best[0]:\n",
    "        found, best = True, cur\n",
    "    return found, best"
   ]
  },
  {
   "cell_type": "code",
   "execution_count": 20,
   "metadata": {},
   "outputs": [],
   "source": [
    "# ステップワイズ法\n",
    "def stepwise(X, y, fit_intercept=True, cv=None):\n",
    "    @lru_cache(maxsize=1024)\n",
    "    def calc_aic(sel):\n",
    "        X_ = X[:, sel]\n",
    "        return cross_val_score(model.fit(X_, y), X_, y,\n",
    "                              scoring=AIC, cv=cv).mean()\n",
    "    model = LinearRegression(fit_intercept)\n",
    "    N = X.shape[1] # 説明変数数\n",
    "    best = 1e308, set() # 最良のAICと選択\n",
    "    found = True\n",
    "    while found and len(best[1]) < N:\n",
    "        found, best = _calc_best(calc_aic, best, N, True)\n",
    "        found2 = True\n",
    "        while found2 and len(best[1]) > 1:\n",
    "            found2, best = _calc_best(calc_aic, best, N, False)\n",
    "            found |= found2\n",
    "    return best[0], list(best[1])"
   ]
  },
  {
   "cell_type": "code",
   "execution_count": 21,
   "metadata": {},
   "outputs": [
    {
     "data": {
      "text/plain": [
       "(517.1135458604272, [10, 11, 12, 5])"
      ]
     },
     "execution_count": 21,
     "metadata": {},
     "output_type": "execute_result"
    }
   ],
   "source": [
    "# ボストン市住宅価格データで変数選択\n",
    "aic, sel = stepwise(X.values, y, cv=6)\n",
    "aic, sel"
   ]
  },
  {
   "cell_type": "code",
   "execution_count": 22,
   "metadata": {},
   "outputs": [
    {
     "data": {
      "text/plain": [
       "[<matplotlib.lines.Line2D at 0x1c16c00710>]"
      ]
     },
     "execution_count": 22,
     "metadata": {},
     "output_type": "execute_result"
    },
    {
     "data": {
      "image/png": "[encoded data removed]",
      "text/plain": [
       "<Figure size 432x288 with 1 Axes>"
      ]
     },
     "metadata": {},
     "output_type": "display_data"
    }
   ],
   "source": [
    "# 真値と予測値の散布図\n",
    "X_sel = X.iloc[:, sel]\n",
    "lr = LinearRegression().fit(X_sel, y)\n",
    "y_pred = lr.predict(X_sel)\n",
    "plt.xlabel('y_pred')\n",
    "plt.ylabel('y_true')\n",
    "plt.plot(y_pred, y, '.')"
   ]
  },
  {
   "cell_type": "code",
   "execution_count": 23,
   "metadata": {},
   "outputs": [
    {
     "data": {
      "text/plain": [
       "Index(['PTRATIO', 'B', 'LSTAT', 'RM'], dtype='object')"
      ]
     },
     "execution_count": 23,
     "metadata": {},
     "output_type": "execute_result"
    }
   ],
   "source": [
    "X_sel.columns"
   ]
  },
  {
   "cell_type": "markdown",
   "metadata": {},
   "source": [
    "### ステップワイズ法（変数増減法の手順）\n",
    "1. 説明変数候補を空にする\n",
    "2. 説明変数候補に新たな説明変数を1つ追加したとき、最も評価値（AIC）が良いものがあれば、追加します。\n",
    "3. 説明変数候補から説明変数を1つ削除したとき、最も評価値（AIC）が良いものがあれば、削除します。\n",
    "4. 削除が可能な間、ステップ3を繰り返します。\n",
    "5. 更新がないか、全ての説明変数を選んだ場合は終了します。そうでない場合、ステップ2へ行きます。\n"
   ]
  },
  {
   "cell_type": "code",
   "execution_count": null,
   "metadata": {},
   "outputs": [],
   "source": []
  }
 ],
 "metadata": {
  "kernelspec": {
   "display_name": "Python 3",
   "language": "python",
   "name": "python3"
  },
  "language_info": {
   "codemirror_mode": {
    "name": "ipython",
    "version": 3
   },
   "file_extension": ".py",
   "mimetype": "text/x-python",
   "name": "python",
   "nbconvert_exporter": "python",
   "pygments_lexer": "ipython3",
   "version": "3.6.5"
  }
 },
 "nbformat": 4,
 "nbformat_minor": 2
}
