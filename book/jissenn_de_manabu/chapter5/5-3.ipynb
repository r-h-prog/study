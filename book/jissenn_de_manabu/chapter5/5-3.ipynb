{
 "cells": [
  {
   "cell_type": "markdown",
   "metadata": {},
   "source": [
    "## Custom Vision Service\n",
    "- メリット\n",
    "    - ノンプログラミングでモデル構築が行える\n",
    "    - モデル構築が早い\n",
    "- デメリット\n",
    "    - 精度向上のために工夫できる要素が少ない\n",
    "    - 訓練データ数や使用頻度が一定量を超えると有料"
   ]
  },
  {
   "cell_type": "code",
   "execution_count": 1,
   "metadata": {},
   "outputs": [
    {
     "name": "stdout",
     "output_type": "stream",
     "text": [
      "Collecting azure-cognitiveservices-vision-customvision\n",
      "\u001b[?25l  Downloading https://files.pythonhosted.org/packages/75/23/1b19ab32108319a4a30ea19559aad8ffbd5cc0b6d136f208fc2f78088715/azure_cognitiveservices_vision_customvision-1.0.0-py2.py3-none-any.whl (109kB)\n",
      "\u001b[K     |████████████████████████████████| 112kB 3.8MB/s eta 0:00:01\n",
      "\u001b[?25hRequirement already satisfied: msrest>=0.5.0 in /Users/hayasakaryouta/anaconda3/lib/python3.6/site-packages (from azure-cognitiveservices-vision-customvision) (0.6.10)\n",
      "Requirement already satisfied: azure-common~=1.1 in /Users/hayasakaryouta/anaconda3/lib/python3.6/site-packages (from azure-cognitiveservices-vision-customvision) (1.1.23)\n",
      "Requirement already satisfied: requests-oauthlib>=0.5.0 in /Users/hayasakaryouta/anaconda3/lib/python3.6/site-packages (from msrest>=0.5.0->azure-cognitiveservices-vision-customvision) (1.2.0)\n",
      "Requirement already satisfied: isodate>=0.6.0 in /Users/hayasakaryouta/anaconda3/lib/python3.6/site-packages (from msrest>=0.5.0->azure-cognitiveservices-vision-customvision) (0.6.0)\n",
      "Requirement already satisfied: certifi>=2017.4.17 in /Users/hayasakaryouta/anaconda3/lib/python3.6/site-packages (from msrest>=0.5.0->azure-cognitiveservices-vision-customvision) (2018.4.16)\n",
      "Requirement already satisfied: requests~=2.16 in /Users/hayasakaryouta/anaconda3/lib/python3.6/site-packages (from msrest>=0.5.0->azure-cognitiveservices-vision-customvision) (2.18.4)\n",
      "Requirement already satisfied: oauthlib>=3.0.0 in /Users/hayasakaryouta/anaconda3/lib/python3.6/site-packages (from requests-oauthlib>=0.5.0->msrest>=0.5.0->azure-cognitiveservices-vision-customvision) (3.1.0)\n",
      "Requirement already satisfied: six in /Users/hayasakaryouta/anaconda3/lib/python3.6/site-packages (from isodate>=0.6.0->msrest>=0.5.0->azure-cognitiveservices-vision-customvision) (1.11.0)\n",
      "Requirement already satisfied: chardet<3.1.0,>=3.0.2 in /Users/hayasakaryouta/anaconda3/lib/python3.6/site-packages (from requests~=2.16->msrest>=0.5.0->azure-cognitiveservices-vision-customvision) (3.0.4)\n",
      "Requirement already satisfied: idna<2.7,>=2.5 in /Users/hayasakaryouta/anaconda3/lib/python3.6/site-packages (from requests~=2.16->msrest>=0.5.0->azure-cognitiveservices-vision-customvision) (2.6)\n",
      "Requirement already satisfied: urllib3<1.23,>=1.21.1 in /Users/hayasakaryouta/anaconda3/lib/python3.6/site-packages (from requests~=2.16->msrest>=0.5.0->azure-cognitiveservices-vision-customvision) (1.22)\n",
      "Installing collected packages: azure-cognitiveservices-vision-customvision\n",
      "Successfully installed azure-cognitiveservices-vision-customvision-1.0.0\n"
     ]
    }
   ],
   "source": [
    "!pip  install azure-cognitiveservices-vision-customvision"
   ]
  },
  {
   "cell_type": "code",
   "execution_count": 2,
   "metadata": {},
   "outputs": [],
   "source": [
    "import glob\n",
    "from azure.cognitiveservices.vision.customvision.prediction import CustomVisionPredictionClient"
   ]
  },
  {
   "cell_type": "code",
   "execution_count": null,
   "metadata": {},
   "outputs": [],
   "source": []
  }
 ],
 "metadata": {
  "kernelspec": {
   "display_name": "Python 3",
   "language": "python",
   "name": "python3"
  },
  "language_info": {
   "codemirror_mode": {
    "name": "ipython",
    "version": 3
   },
   "file_extension": ".py",
   "mimetype": "text/x-python",
   "name": "python",
   "nbconvert_exporter": "python",
   "pygments_lexer": "ipython3",
   "version": "3.6.5"
  }
 },
 "nbformat": 4,
 "nbformat_minor": 2
}
