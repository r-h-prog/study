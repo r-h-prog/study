{
 "cells": [
  {
   "cell_type": "markdown",
   "metadata": {},
   "source": [
    "## Custom Vision Service\n",
    "- メリット\n",
    "    - ノンプログラミングでモデル構築が行える\n",
    "    - モデル構築が早い\n",
    "- デメリット\n",
    "    - 精度向上のために工夫できる要素が少ない\n",
    "    - 訓練データ数や使用頻度が一定量を超えると有料"
   ]
  }
 ],
 "metadata": {
  "kernelspec": {
   "display_name": "Python 3",
   "language": "python",
   "name": "python3"
  },
  "language_info": {
   "codemirror_mode": {
    "name": "ipython",
    "version": 3
   },
   "file_extension": ".py",
   "mimetype": "text/x-python",
   "name": "python",
   "nbconvert_exporter": "python",
   "pygments_lexer": "ipython3",
   "version": "3.6.5"
  }
 },
 "nbformat": 4,
 "nbformat_minor": 2
}
