{
 "cells": [
  {
   "cell_type": "markdown",
   "metadata": {},
   "source": [
    "## Herokuを使ったデプロイ"
   ]
  },
  {
   "cell_type": "markdown",
   "metadata": {},
   "source": [
    "- herokuにアプリケーション登録\n",
    "\n",
    "```\n",
    "heroku create -a <アプリケーション名>\n",
    "```"
   ]
  },
  {
   "cell_type": "markdown",
   "metadata": {},
   "source": [
    "- Gitと連携する\n",
    "\n",
    "```terminal\n",
    "heroku git:remote -a <アプリケーション名>\n",
    "```"
   ]
  },
  {
   "cell_type": "markdown",
   "metadata": {},
   "source": [
    "- デプロイするための３STEP\n",
    "    - 1. buildpacksにPythonを指定\n",
    "    - 2. requirements.txtにインストールするパッケージを記述\n",
    "    - 3. Procfileに起動するアプリケーションの指定"
   ]
  },
  {
   "cell_type": "markdown",
   "metadata": {},
   "source": [
    "- 1. buildpacksにPythonを指定\n",
    "\n",
    "```\n",
    "# Pythonを使用することを宣言\n",
    "heroku buildpacks:set heroku/python\n",
    "```"
   ]
  },
  {
   "cell_type": "markdown",
   "metadata": {},
   "source": [
    "- 2. requirements.txtにインストールするパッケージを記述\n",
    "\n",
    "```requirements.txt\n",
    "# herokuのサーバー上で使用するPythonパッケージを指定\n",
    "gunicorn\n",
    "flask\n",
    "sklearn\n",
    "joblib\n",
    "```"
   ]
  },
  {
   "cell_type": "markdown",
   "metadata": {},
   "source": [
    "- 3. Procfileに起動するアプリケーションの指定\n",
    "\n",
    "```\n",
    "# view.pyにあるappという変数をプロセス上に乗せて起動する\n",
    "web gunicorn view:app --log-file=-\n",
    "```"
   ]
  },
  {
   "cell_type": "markdown",
   "metadata": {},
   "source": [
    "```\n",
    "git push heroku master\n",
    "```"
   ]
  },
  {
   "cell_type": "code",
   "execution_count": null,
   "metadata": {},
   "outputs": [],
   "source": []
  },
  {
   "cell_type": "code",
   "execution_count": null,
   "metadata": {},
   "outputs": [],
   "source": []
  }
 ],
 "metadata": {
  "kernelspec": {
   "display_name": "Python 3",
   "language": "python",
   "name": "python3"
  },
  "language_info": {
   "codemirror_mode": {
    "name": "ipython",
    "version": 3
   },
   "file_extension": ".py",
   "mimetype": "text/x-python",
   "name": "python",
   "nbconvert_exporter": "python",
   "pygments_lexer": "ipython3",
   "version": "3.6.5"
  }
 },
 "nbformat": 4,
 "nbformat_minor": 2
}
