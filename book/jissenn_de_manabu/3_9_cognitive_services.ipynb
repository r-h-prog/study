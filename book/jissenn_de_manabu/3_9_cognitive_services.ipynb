{
 "cells": [
  {
   "cell_type": "markdown",
   "metadata": {},
   "source": [
    "- リソース作成\n",
    "- SDKインストール\n",
    "- JNでインポート\n",
    "- サブスクリプションキーとエンドポイント設定\n",
    "- APIを呼び出してテキスト分析"
   ]
  },
  {
   "cell_type": "code",
   "execution_count": 2,
   "metadata": {},
   "outputs": [],
   "source": [
    "from azure.cognitiveservices.language.textanalytics import TextAnalyticsClient\n",
    "from msrest.authentication import CognitiveServicesCredentials"
   ]
  },
  {
   "cell_type": "code",
   "execution_count": 3,
   "metadata": {},
   "outputs": [
    {
     "data": {
      "text/plain": [
       "<msrest.authentication.CognitiveServicesCredentials at 0x1180059b0>"
      ]
     },
     "execution_count": 3,
     "metadata": {},
     "output_type": "execute_result"
    }
   ],
   "source": [
    "subscription_key = 'f0836cb4185c4a90a1c2c929ad5bda72'\n",
    "credentials = CognitiveServicesCredentials(subscription_key)\n",
    "credentials"
   ]
  },
  {
   "cell_type": "code",
   "execution_count": 5,
   "metadata": {},
   "outputs": [],
   "source": [
    "text_analytics_url = 'https://ryota-jissen-guide.cognitiveservices.azure.com/'\n",
    "text_analytics = TextAnalyticsClient(endpoint=text_analytics_url,credentials=credentials)"
   ]
  },
  {
   "cell_type": "code",
   "execution_count": 6,
   "metadata": {},
   "outputs": [],
   "source": [
    "documents = [\n",
    "    {\n",
    "        'id': '1',\n",
    "        'language': 'ja',\n",
    "        'text': '大きな仕事で成功し、次のチャンスにつながると確信できました。'\n",
    "    },\n",
    "    {\n",
    "        'id':'2',\n",
    "        'language': 'ja',\n",
    "        'text': '近くで大きな火事があり、負傷者も多数と、非常に残念なお知らせでした。'\n",
    "    }\n",
    "]"
   ]
  },
  {
   "cell_type": "code",
   "execution_count": 7,
   "metadata": {},
   "outputs": [
    {
     "name": "stdout",
     "output_type": "stream",
     "text": [
      "id: 1 , Sentiment Score:  0.53\n",
      "id: 2 , Sentiment Score:  0.30\n"
     ]
    }
   ],
   "source": [
    "response = text_analytics.sentiment(documents=documents)\n",
    "for document in response.documents:\n",
    "    print('id:', document.id, ', Sentiment Score: ', '{:.2f}'.format(document.score) )"
   ]
  },
  {
   "cell_type": "code",
   "execution_count": null,
   "metadata": {},
   "outputs": [],
   "source": []
  }
 ],
 "metadata": {
  "kernelspec": {
   "display_name": "Python 3",
   "language": "python",
   "name": "python3"
  },
  "language_info": {
   "codemirror_mode": {
    "name": "ipython",
    "version": 3
   },
   "file_extension": ".py",
   "mimetype": "text/x-python",
   "name": "python",
   "nbconvert_exporter": "python",
   "pygments_lexer": "ipython3",
   "version": "3.6.5"
  }
 },
 "nbformat": 4,
 "nbformat_minor": 2
}
